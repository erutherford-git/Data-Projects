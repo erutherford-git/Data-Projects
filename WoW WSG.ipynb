{
 "cells": [
  {
   "cell_type": "markdown",
   "metadata": {},
   "source": [
    "<h1>WSG Analysis</h1><br>\n",
    "In this notebook, I will be exploring a dataset that has data on the Warsong Gulch battleground in World of Warcraft. The dataset comes from the Kaggle website and can be found at https://www.kaggle.com/cblesa/world-of-warcraft-battlegrounds#wowwg.csv. My goal with this dataset is to see if I can build a model to predict winning teams in a battleground. Since I would like to know the chances of a team winning in advance, I don't want to rely on damage or healing numbers to make my predictions. Thus, I will focus on identifying the strongest classes for carrying flags and dealing damage, and hopefully team composition will be enough to give my model some predictive power."
   ]
  },
  {
   "cell_type": "code",
   "execution_count": 1,
   "metadata": {},
   "outputs": [],
   "source": [
    "import os\n",
    "import numpy as np\n",
    "import pandas as pd\n",
    "import matplotlib.pyplot as plt\n",
    "# import seaborn as sns"
   ]
  },
  {
   "cell_type": "code",
   "execution_count": 2,
   "metadata": {},
   "outputs": [],
   "source": [
    "wsg_df = pd.read_csv(r'C:\\users\\efrut\\OneDrive\\Desktop\\Coding practice\\Warcraft Battleground\\wowwg.csv')"
   ]
  },
  {
   "cell_type": "code",
   "execution_count": 3,
   "metadata": {},
   "outputs": [
    {
     "data": {
      "text/html": [
       "<div>\n",
       "<style scoped>\n",
       "    .dataframe tbody tr th:only-of-type {\n",
       "        vertical-align: middle;\n",
       "    }\n",
       "\n",
       "    .dataframe tbody tr th {\n",
       "        vertical-align: top;\n",
       "    }\n",
       "\n",
       "    .dataframe thead th {\n",
       "        text-align: right;\n",
       "    }\n",
       "</style>\n",
       "<table border=\"1\" class=\"dataframe\">\n",
       "  <thead>\n",
       "    <tr style=\"text-align: right;\">\n",
       "      <th></th>\n",
       "      <th>Code</th>\n",
       "      <th>Faction</th>\n",
       "      <th>Class</th>\n",
       "      <th>KB</th>\n",
       "      <th>D</th>\n",
       "      <th>HK</th>\n",
       "      <th>DD</th>\n",
       "      <th>HD</th>\n",
       "      <th>FC</th>\n",
       "      <th>FR</th>\n",
       "      <th>Honor</th>\n",
       "      <th>Win</th>\n",
       "      <th>Lose</th>\n",
       "      <th>Rol</th>\n",
       "      <th>BE</th>\n",
       "    </tr>\n",
       "  </thead>\n",
       "  <tbody>\n",
       "    <tr>\n",
       "      <th>0</th>\n",
       "      <td>WG1</td>\n",
       "      <td>Horde</td>\n",
       "      <td>Hunter</td>\n",
       "      <td>1</td>\n",
       "      <td>3</td>\n",
       "      <td>14</td>\n",
       "      <td>48155</td>\n",
       "      <td>6641</td>\n",
       "      <td>1.0</td>\n",
       "      <td>NaN</td>\n",
       "      <td>532</td>\n",
       "      <td>1.0</td>\n",
       "      <td>NaN</td>\n",
       "      <td>dps</td>\n",
       "      <td>NaN</td>\n",
       "    </tr>\n",
       "    <tr>\n",
       "      <th>1</th>\n",
       "      <td>WG1</td>\n",
       "      <td>Horde</td>\n",
       "      <td>Death Knight</td>\n",
       "      <td>1</td>\n",
       "      <td>3</td>\n",
       "      <td>12</td>\n",
       "      <td>27025</td>\n",
       "      <td>7106</td>\n",
       "      <td>NaN</td>\n",
       "      <td>NaN</td>\n",
       "      <td>377</td>\n",
       "      <td>1.0</td>\n",
       "      <td>NaN</td>\n",
       "      <td>dps</td>\n",
       "      <td>NaN</td>\n",
       "    </tr>\n",
       "    <tr>\n",
       "      <th>2</th>\n",
       "      <td>WG1</td>\n",
       "      <td>Alliance</td>\n",
       "      <td>Paladin</td>\n",
       "      <td>0</td>\n",
       "      <td>1</td>\n",
       "      <td>19</td>\n",
       "      <td>824</td>\n",
       "      <td>93879</td>\n",
       "      <td>NaN</td>\n",
       "      <td>NaN</td>\n",
       "      <td>252</td>\n",
       "      <td>NaN</td>\n",
       "      <td>1.0</td>\n",
       "      <td>heal</td>\n",
       "      <td>NaN</td>\n",
       "    </tr>\n",
       "    <tr>\n",
       "      <th>3</th>\n",
       "      <td>WG1</td>\n",
       "      <td>Alliance</td>\n",
       "      <td>Paladin</td>\n",
       "      <td>1</td>\n",
       "      <td>2</td>\n",
       "      <td>25</td>\n",
       "      <td>7046</td>\n",
       "      <td>98599</td>\n",
       "      <td>NaN</td>\n",
       "      <td>NaN</td>\n",
       "      <td>274</td>\n",
       "      <td>NaN</td>\n",
       "      <td>1.0</td>\n",
       "      <td>heal</td>\n",
       "      <td>NaN</td>\n",
       "    </tr>\n",
       "    <tr>\n",
       "      <th>4</th>\n",
       "      <td>WG1</td>\n",
       "      <td>Alliance</td>\n",
       "      <td>Rogue</td>\n",
       "      <td>2</td>\n",
       "      <td>3</td>\n",
       "      <td>23</td>\n",
       "      <td>65483</td>\n",
       "      <td>19629</td>\n",
       "      <td>NaN</td>\n",
       "      <td>NaN</td>\n",
       "      <td>268</td>\n",
       "      <td>NaN</td>\n",
       "      <td>1.0</td>\n",
       "      <td>dps</td>\n",
       "      <td>NaN</td>\n",
       "    </tr>\n",
       "  </tbody>\n",
       "</table>\n",
       "</div>"
      ],
      "text/plain": [
       "  Code   Faction         Class  KB  D  HK     DD     HD   FC  FR  Honor  Win  \\\n",
       "0  WG1     Horde        Hunter   1  3  14  48155   6641  1.0 NaN    532  1.0   \n",
       "1  WG1     Horde  Death Knight   1  3  12  27025   7106  NaN NaN    377  1.0   \n",
       "2  WG1  Alliance       Paladin   0  1  19    824  93879  NaN NaN    252  NaN   \n",
       "3  WG1  Alliance       Paladin   1  2  25   7046  98599  NaN NaN    274  NaN   \n",
       "4  WG1  Alliance         Rogue   2  3  23  65483  19629  NaN NaN    268  NaN   \n",
       "\n",
       "   Lose   Rol  BE  \n",
       "0   NaN   dps NaN  \n",
       "1   NaN   dps NaN  \n",
       "2   1.0  heal NaN  \n",
       "3   1.0  heal NaN  \n",
       "4   1.0   dps NaN  "
      ]
     },
     "execution_count": 3,
     "metadata": {},
     "output_type": "execute_result"
    }
   ],
   "source": [
    "wsg_df.head()"
   ]
  },
  {
   "cell_type": "markdown",
   "metadata": {},
   "source": [
    "It looks like a lot of the rows have null values where a 0 would make more sense. Leaving this as is will make things harder for me than necessary. Let's replace these null values with 0."
   ]
  },
  {
   "cell_type": "code",
   "execution_count": 4,
   "metadata": {},
   "outputs": [
    {
     "data": {
      "text/html": [
       "<div>\n",
       "<style scoped>\n",
       "    .dataframe tbody tr th:only-of-type {\n",
       "        vertical-align: middle;\n",
       "    }\n",
       "\n",
       "    .dataframe tbody tr th {\n",
       "        vertical-align: top;\n",
       "    }\n",
       "\n",
       "    .dataframe thead th {\n",
       "        text-align: right;\n",
       "    }\n",
       "</style>\n",
       "<table border=\"1\" class=\"dataframe\">\n",
       "  <thead>\n",
       "    <tr style=\"text-align: right;\">\n",
       "      <th></th>\n",
       "      <th>Code</th>\n",
       "      <th>Faction</th>\n",
       "      <th>Class</th>\n",
       "      <th>KB</th>\n",
       "      <th>D</th>\n",
       "      <th>HK</th>\n",
       "      <th>DD</th>\n",
       "      <th>HD</th>\n",
       "      <th>FC</th>\n",
       "      <th>FR</th>\n",
       "      <th>Honor</th>\n",
       "      <th>Win</th>\n",
       "      <th>Lose</th>\n",
       "      <th>Rol</th>\n",
       "      <th>BE</th>\n",
       "    </tr>\n",
       "  </thead>\n",
       "  <tbody>\n",
       "    <tr>\n",
       "      <th>0</th>\n",
       "      <td>WG1</td>\n",
       "      <td>Horde</td>\n",
       "      <td>Hunter</td>\n",
       "      <td>1</td>\n",
       "      <td>3</td>\n",
       "      <td>14</td>\n",
       "      <td>48155</td>\n",
       "      <td>6641</td>\n",
       "      <td>1.0</td>\n",
       "      <td>0.0</td>\n",
       "      <td>532</td>\n",
       "      <td>1.0</td>\n",
       "      <td>0.0</td>\n",
       "      <td>dps</td>\n",
       "      <td>0.0</td>\n",
       "    </tr>\n",
       "    <tr>\n",
       "      <th>1</th>\n",
       "      <td>WG1</td>\n",
       "      <td>Horde</td>\n",
       "      <td>Death Knight</td>\n",
       "      <td>1</td>\n",
       "      <td>3</td>\n",
       "      <td>12</td>\n",
       "      <td>27025</td>\n",
       "      <td>7106</td>\n",
       "      <td>0.0</td>\n",
       "      <td>0.0</td>\n",
       "      <td>377</td>\n",
       "      <td>1.0</td>\n",
       "      <td>0.0</td>\n",
       "      <td>dps</td>\n",
       "      <td>0.0</td>\n",
       "    </tr>\n",
       "    <tr>\n",
       "      <th>2</th>\n",
       "      <td>WG1</td>\n",
       "      <td>Alliance</td>\n",
       "      <td>Paladin</td>\n",
       "      <td>0</td>\n",
       "      <td>1</td>\n",
       "      <td>19</td>\n",
       "      <td>824</td>\n",
       "      <td>93879</td>\n",
       "      <td>0.0</td>\n",
       "      <td>0.0</td>\n",
       "      <td>252</td>\n",
       "      <td>0.0</td>\n",
       "      <td>1.0</td>\n",
       "      <td>heal</td>\n",
       "      <td>0.0</td>\n",
       "    </tr>\n",
       "    <tr>\n",
       "      <th>3</th>\n",
       "      <td>WG1</td>\n",
       "      <td>Alliance</td>\n",
       "      <td>Paladin</td>\n",
       "      <td>1</td>\n",
       "      <td>2</td>\n",
       "      <td>25</td>\n",
       "      <td>7046</td>\n",
       "      <td>98599</td>\n",
       "      <td>0.0</td>\n",
       "      <td>0.0</td>\n",
       "      <td>274</td>\n",
       "      <td>0.0</td>\n",
       "      <td>1.0</td>\n",
       "      <td>heal</td>\n",
       "      <td>0.0</td>\n",
       "    </tr>\n",
       "    <tr>\n",
       "      <th>4</th>\n",
       "      <td>WG1</td>\n",
       "      <td>Alliance</td>\n",
       "      <td>Rogue</td>\n",
       "      <td>2</td>\n",
       "      <td>3</td>\n",
       "      <td>23</td>\n",
       "      <td>65483</td>\n",
       "      <td>19629</td>\n",
       "      <td>0.0</td>\n",
       "      <td>0.0</td>\n",
       "      <td>268</td>\n",
       "      <td>0.0</td>\n",
       "      <td>1.0</td>\n",
       "      <td>dps</td>\n",
       "      <td>0.0</td>\n",
       "    </tr>\n",
       "  </tbody>\n",
       "</table>\n",
       "</div>"
      ],
      "text/plain": [
       "  Code   Faction         Class  KB  D  HK     DD     HD   FC   FR  Honor  Win  \\\n",
       "0  WG1     Horde        Hunter   1  3  14  48155   6641  1.0  0.0    532  1.0   \n",
       "1  WG1     Horde  Death Knight   1  3  12  27025   7106  0.0  0.0    377  1.0   \n",
       "2  WG1  Alliance       Paladin   0  1  19    824  93879  0.0  0.0    252  0.0   \n",
       "3  WG1  Alliance       Paladin   1  2  25   7046  98599  0.0  0.0    274  0.0   \n",
       "4  WG1  Alliance         Rogue   2  3  23  65483  19629  0.0  0.0    268  0.0   \n",
       "\n",
       "   Lose   Rol   BE  \n",
       "0   0.0   dps  0.0  \n",
       "1   0.0   dps  0.0  \n",
       "2   1.0  heal  0.0  \n",
       "3   1.0  heal  0.0  \n",
       "4   1.0   dps  0.0  "
      ]
     },
     "execution_count": 4,
     "metadata": {},
     "output_type": "execute_result"
    }
   ],
   "source": [
    "wsg_df = wsg_df.fillna(0)\n",
    "wsg_df.head()"
   ]
  },
  {
   "cell_type": "markdown",
   "metadata": {},
   "source": [
    "This is much better. Let's make sure everything else looks normal then move on"
   ]
  },
  {
   "cell_type": "code",
   "execution_count": 5,
   "metadata": {},
   "outputs": [
    {
     "data": {
      "text/plain": [
       "Code        object\n",
       "Faction     object\n",
       "Class       object\n",
       "KB           int64\n",
       "D            int64\n",
       "HK           int64\n",
       "DD           int64\n",
       "HD           int64\n",
       "FC         float64\n",
       "FR         float64\n",
       "Honor        int64\n",
       "Win        float64\n",
       "Lose       float64\n",
       "Rol         object\n",
       "BE         float64\n",
       "dtype: object"
      ]
     },
     "execution_count": 5,
     "metadata": {},
     "output_type": "execute_result"
    }
   ],
   "source": [
    "wsg_df.dtypes"
   ]
  },
  {
   "cell_type": "markdown",
   "metadata": {},
   "source": [
    "This looks fine for now, so let's move on."
   ]
  },
  {
   "cell_type": "markdown",
   "metadata": {},
   "source": [
    "<h3>Flag Captures by Class</h3><br>\n",
    "My first interest is finding out which classes are the best at capturing flags in the battleground."
   ]
  },
  {
   "cell_type": "code",
   "execution_count": 6,
   "metadata": {},
   "outputs": [
    {
     "data": {
      "text/html": [
       "<div>\n",
       "<style scoped>\n",
       "    .dataframe tbody tr th:only-of-type {\n",
       "        vertical-align: middle;\n",
       "    }\n",
       "\n",
       "    .dataframe tbody tr th {\n",
       "        vertical-align: top;\n",
       "    }\n",
       "\n",
       "    .dataframe thead th {\n",
       "        text-align: right;\n",
       "    }\n",
       "</style>\n",
       "<table border=\"1\" class=\"dataframe\">\n",
       "  <thead>\n",
       "    <tr style=\"text-align: right;\">\n",
       "      <th></th>\n",
       "      <th>Class</th>\n",
       "      <th>FC</th>\n",
       "    </tr>\n",
       "  </thead>\n",
       "  <tbody>\n",
       "    <tr>\n",
       "      <th>3</th>\n",
       "      <td>Hunter</td>\n",
       "      <td>1.0</td>\n",
       "    </tr>\n",
       "    <tr>\n",
       "      <th>10</th>\n",
       "      <td>Warlock</td>\n",
       "      <td>1.0</td>\n",
       "    </tr>\n",
       "    <tr>\n",
       "      <th>7</th>\n",
       "      <td>Priest</td>\n",
       "      <td>5.0</td>\n",
       "    </tr>\n",
       "    <tr>\n",
       "      <th>0</th>\n",
       "      <td>Death Knight</td>\n",
       "      <td>6.0</td>\n",
       "    </tr>\n",
       "    <tr>\n",
       "      <th>4</th>\n",
       "      <td>Mage</td>\n",
       "      <td>7.0</td>\n",
       "    </tr>\n",
       "    <tr>\n",
       "      <th>8</th>\n",
       "      <td>Rogue</td>\n",
       "      <td>7.0</td>\n",
       "    </tr>\n",
       "    <tr>\n",
       "      <th>9</th>\n",
       "      <td>Shaman</td>\n",
       "      <td>8.0</td>\n",
       "    </tr>\n",
       "    <tr>\n",
       "      <th>2</th>\n",
       "      <td>Druid</td>\n",
       "      <td>10.0</td>\n",
       "    </tr>\n",
       "    <tr>\n",
       "      <th>6</th>\n",
       "      <td>Paladin</td>\n",
       "      <td>11.0</td>\n",
       "    </tr>\n",
       "    <tr>\n",
       "      <th>5</th>\n",
       "      <td>Monk</td>\n",
       "      <td>14.0</td>\n",
       "    </tr>\n",
       "    <tr>\n",
       "      <th>11</th>\n",
       "      <td>Warrior</td>\n",
       "      <td>16.0</td>\n",
       "    </tr>\n",
       "    <tr>\n",
       "      <th>1</th>\n",
       "      <td>Demon Hunter</td>\n",
       "      <td>21.0</td>\n",
       "    </tr>\n",
       "  </tbody>\n",
       "</table>\n",
       "</div>"
      ],
      "text/plain": [
       "           Class    FC\n",
       "3         Hunter   1.0\n",
       "10       Warlock   1.0\n",
       "7         Priest   5.0\n",
       "0   Death Knight   6.0\n",
       "4           Mage   7.0\n",
       "8          Rogue   7.0\n",
       "9         Shaman   8.0\n",
       "2          Druid  10.0\n",
       "6        Paladin  11.0\n",
       "5           Monk  14.0\n",
       "11       Warrior  16.0\n",
       "1   Demon Hunter  21.0"
      ]
     },
     "execution_count": 6,
     "metadata": {},
     "output_type": "execute_result"
    }
   ],
   "source": [
    "# I want a dataframe that shows each class and the total number of flag captures they have made\n",
    "\n",
    "fcapture_df = wsg_df.groupby('Class')['FC'].sum().to_frame().reset_index().sort_values(by='FC')\n",
    "fcapture_df"
   ]
  },
  {
   "cell_type": "code",
   "execution_count": 7,
   "metadata": {},
   "outputs": [
    {
     "data": {
      "text/plain": [
       "([0, 1, 2, 3, 4, 5, 6, 7, 8, 9, 10, 11],\n",
       " <a list of 12 Text xticklabel objects>)"
      ]
     },
     "execution_count": 7,
     "metadata": {},
     "output_type": "execute_result"
    },
    {
     "data": {
      "image/png": "[encoded data removed]",
      "text/plain": [
       "<Figure size 432x288 with 1 Axes>"
      ]
     },
     "metadata": {},
     "output_type": "display_data"
    }
   ],
   "source": [
    "%matplotlib inline\n",
    "x_caps=fcapture_df['Class']\n",
    "y_caps=fcapture_df['FC']\n",
    "\n",
    "plt.bar(x_caps,y_caps)\n",
    "plt.title('Number of WSG Flag Captures by Class')\n",
    "plt.xticks(rotation=90)"
   ]
  },
  {
   "cell_type": "markdown",
   "metadata": {},
   "source": [
    "We have found the classes that are the top flag carriers in WSG. They are<br>\n",
    "<ol>\n",
    "    <li>Demon Hunter</li>\n",
    "    <li>Warrior</li>\n",
    "    <li>Monk</li>\n",
    "    <li>Paladin</li>\n",
    "    <li>Druid</li>\n",
    "</ol><br>\n",
    "I want to check the distribution of the classes within our data to make sure no single class is significantly overrepresented in the battlegrounds, which could alter our results here"
   ]
  },
  {
   "cell_type": "code",
   "execution_count": 8,
   "metadata": {},
   "outputs": [
    {
     "data": {
      "text/plain": [
       "([0, 1, 2, 3, 4, 5, 6, 7, 8, 9, 10, 11],\n",
       " <a list of 12 Text xticklabel objects>)"
      ]
     },
     "execution_count": 8,
     "metadata": {},
     "output_type": "execute_result"
    },
    {
     "data": {
      "image/png": "[encoded data removed]",
      "text/plain": [
       "<Figure size 432x288 with 1 Axes>"
      ]
     },
     "metadata": {},
     "output_type": "display_data"
    }
   ],
   "source": [
    "class_x = wsg_df.groupby('Class').size().reset_index(name='counts')['Class']\n",
    "class_y = wsg_df.groupby('Class').size().reset_index(name='counts')['counts']\n",
    "\n",
    "plt.bar(class_x, class_y)\n",
    "plt.title('Distribution of Classes Within WSG Data')\n",
    "plt.xticks(rotation=90)"
   ]
  },
  {
   "cell_type": "markdown",
   "metadata": {},
   "source": [
    "The class counts support the conclusion above. Demon Hunter seems to be the best flag carrier. With Monks comparatively underrepresented, they may be a better flag carrier than warriors, who are the most represented class, but I believe both should be included in the top 5."
   ]
  },
  {
   "cell_type": "code",
   "execution_count": 9,
   "metadata": {},
   "outputs": [],
   "source": [
    "best_fc=['Demon Hunter','Warrior','Monk','Paladin','Druid']"
   ]
  },
  {
   "cell_type": "markdown",
   "metadata": {},
   "source": [
    "<h3>Deadliest Classes</h3><br>\n",
    "In the previous section, we found the best flag carriers in our data. Let's follow a similar method and find the deadliest classes across our Warsong Gulch data."
   ]
  },
  {
   "cell_type": "code",
   "execution_count": 10,
   "metadata": {},
   "outputs": [
    {
     "data": {
      "text/html": [
       "<div>\n",
       "<style scoped>\n",
       "    .dataframe tbody tr th:only-of-type {\n",
       "        vertical-align: middle;\n",
       "    }\n",
       "\n",
       "    .dataframe tbody tr th {\n",
       "        vertical-align: top;\n",
       "    }\n",
       "\n",
       "    .dataframe thead th {\n",
       "        text-align: right;\n",
       "    }\n",
       "</style>\n",
       "<table border=\"1\" class=\"dataframe\">\n",
       "  <thead>\n",
       "    <tr style=\"text-align: right;\">\n",
       "      <th></th>\n",
       "      <th>Class</th>\n",
       "      <th>KB</th>\n",
       "    </tr>\n",
       "  </thead>\n",
       "  <tbody>\n",
       "    <tr>\n",
       "      <th>5</th>\n",
       "      <td>Monk</td>\n",
       "      <td>47</td>\n",
       "    </tr>\n",
       "    <tr>\n",
       "      <th>9</th>\n",
       "      <td>Shaman</td>\n",
       "      <td>77</td>\n",
       "    </tr>\n",
       "    <tr>\n",
       "      <th>0</th>\n",
       "      <td>Death Knight</td>\n",
       "      <td>141</td>\n",
       "    </tr>\n",
       "    <tr>\n",
       "      <th>8</th>\n",
       "      <td>Rogue</td>\n",
       "      <td>149</td>\n",
       "    </tr>\n",
       "    <tr>\n",
       "      <th>6</th>\n",
       "      <td>Paladin</td>\n",
       "      <td>162</td>\n",
       "    </tr>\n",
       "    <tr>\n",
       "      <th>2</th>\n",
       "      <td>Druid</td>\n",
       "      <td>171</td>\n",
       "    </tr>\n",
       "    <tr>\n",
       "      <th>1</th>\n",
       "      <td>Demon Hunter</td>\n",
       "      <td>186</td>\n",
       "    </tr>\n",
       "    <tr>\n",
       "      <th>7</th>\n",
       "      <td>Priest</td>\n",
       "      <td>193</td>\n",
       "    </tr>\n",
       "    <tr>\n",
       "      <th>4</th>\n",
       "      <td>Mage</td>\n",
       "      <td>195</td>\n",
       "    </tr>\n",
       "    <tr>\n",
       "      <th>10</th>\n",
       "      <td>Warlock</td>\n",
       "      <td>224</td>\n",
       "    </tr>\n",
       "    <tr>\n",
       "      <th>3</th>\n",
       "      <td>Hunter</td>\n",
       "      <td>228</td>\n",
       "    </tr>\n",
       "    <tr>\n",
       "      <th>11</th>\n",
       "      <td>Warrior</td>\n",
       "      <td>315</td>\n",
       "    </tr>\n",
       "  </tbody>\n",
       "</table>\n",
       "</div>"
      ],
      "text/plain": [
       "           Class   KB\n",
       "5           Monk   47\n",
       "9         Shaman   77\n",
       "0   Death Knight  141\n",
       "8          Rogue  149\n",
       "6        Paladin  162\n",
       "2          Druid  171\n",
       "1   Demon Hunter  186\n",
       "7         Priest  193\n",
       "4           Mage  195\n",
       "10       Warlock  224\n",
       "3         Hunter  228\n",
       "11       Warrior  315"
      ]
     },
     "execution_count": 10,
     "metadata": {},
     "output_type": "execute_result"
    }
   ],
   "source": [
    "kills_df = wsg_df.groupby('Class')['KB'].sum().to_frame().reset_index().sort_values(by='KB')\n",
    "kills_df"
   ]
  },
  {
   "cell_type": "markdown",
   "metadata": {},
   "source": [
    "I think I want to divide the number of KBs for each class by the count of each class to find the expected KBs per class player. Let's get the counts for each class."
   ]
  },
  {
   "cell_type": "code",
   "execution_count": 11,
   "metadata": {},
   "outputs": [],
   "source": [
    "class_counts_df = wsg_df.groupby('Class').size().to_frame().reset_index()\n",
    "class_counts_df.columns=['Class','Counts']\n",
    "\n"
   ]
  },
  {
   "cell_type": "code",
   "execution_count": 12,
   "metadata": {},
   "outputs": [
    {
     "data": {
      "text/html": [
       "<div>\n",
       "<style scoped>\n",
       "    .dataframe tbody tr th:only-of-type {\n",
       "        vertical-align: middle;\n",
       "    }\n",
       "\n",
       "    .dataframe tbody tr th {\n",
       "        vertical-align: top;\n",
       "    }\n",
       "\n",
       "    .dataframe thead th {\n",
       "        text-align: right;\n",
       "    }\n",
       "</style>\n",
       "<table border=\"1\" class=\"dataframe\">\n",
       "  <thead>\n",
       "    <tr style=\"text-align: right;\">\n",
       "      <th></th>\n",
       "      <th>Class</th>\n",
       "      <th>KB</th>\n",
       "      <th>Counts</th>\n",
       "    </tr>\n",
       "  </thead>\n",
       "  <tbody>\n",
       "    <tr>\n",
       "      <th>0</th>\n",
       "      <td>Monk</td>\n",
       "      <td>47</td>\n",
       "      <td>33</td>\n",
       "    </tr>\n",
       "    <tr>\n",
       "      <th>1</th>\n",
       "      <td>Shaman</td>\n",
       "      <td>77</td>\n",
       "      <td>69</td>\n",
       "    </tr>\n",
       "    <tr>\n",
       "      <th>2</th>\n",
       "      <td>Death Knight</td>\n",
       "      <td>141</td>\n",
       "      <td>48</td>\n",
       "    </tr>\n",
       "    <tr>\n",
       "      <th>3</th>\n",
       "      <td>Rogue</td>\n",
       "      <td>149</td>\n",
       "      <td>50</td>\n",
       "    </tr>\n",
       "    <tr>\n",
       "      <th>4</th>\n",
       "      <td>Paladin</td>\n",
       "      <td>162</td>\n",
       "      <td>56</td>\n",
       "    </tr>\n",
       "    <tr>\n",
       "      <th>5</th>\n",
       "      <td>Druid</td>\n",
       "      <td>171</td>\n",
       "      <td>62</td>\n",
       "    </tr>\n",
       "    <tr>\n",
       "      <th>6</th>\n",
       "      <td>Demon Hunter</td>\n",
       "      <td>186</td>\n",
       "      <td>53</td>\n",
       "    </tr>\n",
       "    <tr>\n",
       "      <th>7</th>\n",
       "      <td>Priest</td>\n",
       "      <td>193</td>\n",
       "      <td>65</td>\n",
       "    </tr>\n",
       "    <tr>\n",
       "      <th>8</th>\n",
       "      <td>Mage</td>\n",
       "      <td>195</td>\n",
       "      <td>55</td>\n",
       "    </tr>\n",
       "    <tr>\n",
       "      <th>9</th>\n",
       "      <td>Warlock</td>\n",
       "      <td>224</td>\n",
       "      <td>55</td>\n",
       "    </tr>\n",
       "    <tr>\n",
       "      <th>10</th>\n",
       "      <td>Hunter</td>\n",
       "      <td>228</td>\n",
       "      <td>64</td>\n",
       "    </tr>\n",
       "    <tr>\n",
       "      <th>11</th>\n",
       "      <td>Warrior</td>\n",
       "      <td>315</td>\n",
       "      <td>77</td>\n",
       "    </tr>\n",
       "  </tbody>\n",
       "</table>\n",
       "</div>"
      ],
      "text/plain": [
       "           Class   KB  Counts\n",
       "0           Monk   47      33\n",
       "1         Shaman   77      69\n",
       "2   Death Knight  141      48\n",
       "3          Rogue  149      50\n",
       "4        Paladin  162      56\n",
       "5          Druid  171      62\n",
       "6   Demon Hunter  186      53\n",
       "7         Priest  193      65\n",
       "8           Mage  195      55\n",
       "9        Warlock  224      55\n",
       "10        Hunter  228      64\n",
       "11       Warrior  315      77"
      ]
     },
     "execution_count": 12,
     "metadata": {},
     "output_type": "execute_result"
    }
   ],
   "source": [
    "kb_counts_df = pd.merge(kills_df, class_counts_df, on='Class')\n",
    "kb_counts_df"
   ]
  },
  {
   "cell_type": "markdown",
   "metadata": {},
   "source": [
    "Perfect! Now, lets make a new column that has KB divide by count"
   ]
  },
  {
   "cell_type": "code",
   "execution_count": 13,
   "metadata": {},
   "outputs": [
    {
     "data": {
      "text/html": [
       "<div>\n",
       "<style scoped>\n",
       "    .dataframe tbody tr th:only-of-type {\n",
       "        vertical-align: middle;\n",
       "    }\n",
       "\n",
       "    .dataframe tbody tr th {\n",
       "        vertical-align: top;\n",
       "    }\n",
       "\n",
       "    .dataframe thead th {\n",
       "        text-align: right;\n",
       "    }\n",
       "</style>\n",
       "<table border=\"1\" class=\"dataframe\">\n",
       "  <thead>\n",
       "    <tr style=\"text-align: right;\">\n",
       "      <th></th>\n",
       "      <th>Class</th>\n",
       "      <th>KB</th>\n",
       "      <th>Counts</th>\n",
       "      <th>KB/Count</th>\n",
       "    </tr>\n",
       "  </thead>\n",
       "  <tbody>\n",
       "    <tr>\n",
       "      <th>1</th>\n",
       "      <td>Shaman</td>\n",
       "      <td>77</td>\n",
       "      <td>69</td>\n",
       "      <td>1.115942</td>\n",
       "    </tr>\n",
       "    <tr>\n",
       "      <th>0</th>\n",
       "      <td>Monk</td>\n",
       "      <td>47</td>\n",
       "      <td>33</td>\n",
       "      <td>1.424242</td>\n",
       "    </tr>\n",
       "    <tr>\n",
       "      <th>5</th>\n",
       "      <td>Druid</td>\n",
       "      <td>171</td>\n",
       "      <td>62</td>\n",
       "      <td>2.758065</td>\n",
       "    </tr>\n",
       "    <tr>\n",
       "      <th>4</th>\n",
       "      <td>Paladin</td>\n",
       "      <td>162</td>\n",
       "      <td>56</td>\n",
       "      <td>2.892857</td>\n",
       "    </tr>\n",
       "    <tr>\n",
       "      <th>2</th>\n",
       "      <td>Death Knight</td>\n",
       "      <td>141</td>\n",
       "      <td>48</td>\n",
       "      <td>2.937500</td>\n",
       "    </tr>\n",
       "    <tr>\n",
       "      <th>7</th>\n",
       "      <td>Priest</td>\n",
       "      <td>193</td>\n",
       "      <td>65</td>\n",
       "      <td>2.969231</td>\n",
       "    </tr>\n",
       "    <tr>\n",
       "      <th>3</th>\n",
       "      <td>Rogue</td>\n",
       "      <td>149</td>\n",
       "      <td>50</td>\n",
       "      <td>2.980000</td>\n",
       "    </tr>\n",
       "    <tr>\n",
       "      <th>6</th>\n",
       "      <td>Demon Hunter</td>\n",
       "      <td>186</td>\n",
       "      <td>53</td>\n",
       "      <td>3.509434</td>\n",
       "    </tr>\n",
       "    <tr>\n",
       "      <th>8</th>\n",
       "      <td>Mage</td>\n",
       "      <td>195</td>\n",
       "      <td>55</td>\n",
       "      <td>3.545455</td>\n",
       "    </tr>\n",
       "    <tr>\n",
       "      <th>10</th>\n",
       "      <td>Hunter</td>\n",
       "      <td>228</td>\n",
       "      <td>64</td>\n",
       "      <td>3.562500</td>\n",
       "    </tr>\n",
       "    <tr>\n",
       "      <th>9</th>\n",
       "      <td>Warlock</td>\n",
       "      <td>224</td>\n",
       "      <td>55</td>\n",
       "      <td>4.072727</td>\n",
       "    </tr>\n",
       "    <tr>\n",
       "      <th>11</th>\n",
       "      <td>Warrior</td>\n",
       "      <td>315</td>\n",
       "      <td>77</td>\n",
       "      <td>4.090909</td>\n",
       "    </tr>\n",
       "  </tbody>\n",
       "</table>\n",
       "</div>"
      ],
      "text/plain": [
       "           Class   KB  Counts  KB/Count\n",
       "1         Shaman   77      69  1.115942\n",
       "0           Monk   47      33  1.424242\n",
       "5          Druid  171      62  2.758065\n",
       "4        Paladin  162      56  2.892857\n",
       "2   Death Knight  141      48  2.937500\n",
       "7         Priest  193      65  2.969231\n",
       "3          Rogue  149      50  2.980000\n",
       "6   Demon Hunter  186      53  3.509434\n",
       "8           Mage  195      55  3.545455\n",
       "10        Hunter  228      64  3.562500\n",
       "9        Warlock  224      55  4.072727\n",
       "11       Warrior  315      77  4.090909"
      ]
     },
     "execution_count": 13,
     "metadata": {},
     "output_type": "execute_result"
    }
   ],
   "source": [
    "kb_counts_df['KB/Count'] = kb_counts_df['KB']/kb_counts_df['Counts']\n",
    "kb_counts_df = kb_counts_df.sort_values(by='KB/Count')\n",
    "kb_counts_df"
   ]
  },
  {
   "cell_type": "code",
   "execution_count": 14,
   "metadata": {},
   "outputs": [
    {
     "data": {
      "text/plain": [
       "([0, 1, 2, 3, 4, 5, 6, 7, 8, 9, 10, 11],\n",
       " <a list of 12 Text xticklabel objects>)"
      ]
     },
     "execution_count": 14,
     "metadata": {},
     "output_type": "execute_result"
    },
    {
     "data": {
      "image/png": "[encoded data removed]",
      "text/plain": [
       "<Figure size 432x288 with 1 Axes>"
      ]
     },
     "metadata": {},
     "output_type": "display_data"
    }
   ],
   "source": [
    "plt.bar(kb_counts_df['Class'],kb_counts_df['KB/Count'])\n",
    "plt.title('Average KB per class player')\n",
    "plt.xticks(rotation=90)"
   ]
  },
  {
   "cell_type": "markdown",
   "metadata": {},
   "source": [
    "I think this is a good representation of the deadliest classes in WSG. As I did with the flag carriers, I'll look at the top 5 since there seems to be a bit of a drop afterwards.<ol>\n",
    "    <li>Warrior</li>\n",
    "    <li>Warlock</li>\n",
    "    <li>Hunter</li>\n",
    "    <li>Mage</li>\n",
    "    <li>Demon Hunter</li>\n",
    "   </ol>\n",
    "We'll call these the best dps."
   ]
  },
  {
   "cell_type": "code",
   "execution_count": 15,
   "metadata": {},
   "outputs": [],
   "source": [
    "best_dps=['Warrior','Warlock','Hunter','Mage','Demon Hunter']"
   ]
  },
  {
   "cell_type": "markdown",
   "metadata": {},
   "source": [
    "<h3>Data Aggregation</h3><br>\n",
    "Now that we know which classes do are the best at getting killing blows and flag carrying, I want a dataframe that has these stats for each team in each battleground. For the Alliance and Horde in each battleground, I would like to see, for example, the number of good flag carriers, number of good dps, number of healers, and which faction won. "
   ]
  },
  {
   "cell_type": "code",
   "execution_count": 16,
   "metadata": {},
   "outputs": [],
   "source": [
    "wsg_grouped=wsg_df.groupby(['Code','Faction'])"
   ]
  },
  {
   "cell_type": "code",
   "execution_count": 17,
   "metadata": {},
   "outputs": [
    {
     "name": "stdout",
     "output_type": "stream",
     "text": [
      "['WG1', 'WG1', 'WG10', 'WG10', 'WG11', 'WG11', 'WG12', 'WG12', 'WG13', 'WG13', 'WG14', 'WG14', 'WG15', 'WG15', 'WG16', 'WG16', 'WG17', 'WG17', 'WG18', 'WG18', 'WG19', 'WG19', 'WG2', 'WG2', 'WG20', 'WG20', 'WG21', 'WG21', 'WG22', 'WG22', 'WG23', 'WG23', 'WG24', 'WG24', 'WG25', 'WG25', 'WG26', 'WG26', 'WG27', 'WG27', 'WG28', 'WG28', 'WG29', 'WG29', 'WG3', 'WG3', 'WG30', 'WG30', 'WG31', 'WG31', 'WG32', 'WG32', 'WG33', 'WG33', 'WG34', 'WG34', 'WG35', 'WG35', 'WG4', 'WG4', 'WG5', 'WG5', 'WG6', 'WG6', 'WG7', 'WG7', 'WG8', 'WG8', 'WG9', 'WG9']\n",
      "['Alliance', 'Horde', 'Alliance', 'Horde', 'Alliance', 'Horde', 'Alliance', 'Horde', 'Alliance', 'Horde', 'Alliance', 'Horde', 'Alliance', 'Horde', 'Alliance', 'Horde', 'Alliance', 'Horde', 'Alliance', 'Horde', 'Alliance', 'Horde', 'Alliance', 'Horde', 'Alliance', 'Horde', 'Alliance', 'Horde', 'Alliance', 'Horde', 'Alliance', 'Horde', 'Alliance', 'Horde', 'Alliance', 'Horde', 'Alliance', 'Horde', 'Alliance', 'Horde', 'Alliance', 'Horde', 'Alliance', 'Horde', 'Alliance', 'Horde', 'Alliance', 'Horde', 'Alliance', 'Horde', 'Alliance', 'Horde', 'Alliance', 'Horde', 'Alliance', 'Horde', 'Alliance', 'Horde', 'Alliance', 'Horde', 'Alliance', 'Horde', 'Alliance', 'Horde', 'Alliance', 'Horde', 'Alliance', 'Horde', 'Alliance', 'Horde']\n"
     ]
    }
   ],
   "source": [
    "bg_array=[] # create empty lists for the bg codes and the factions\n",
    "faction_array=[]\n",
    "\n",
    "for bg, bg_df in wsg_grouped: # iterate through the groupedby object\n",
    "    bg_array.append(bg[0]) # append the bg list with the first element in bg\n",
    "    faction_array.append(bg[1]) # append the factions list with the second element in bg\n",
    "\n",
    "print(bg_array)\n",
    "print(faction_array)\n",
    "    "
   ]
  },
  {
   "cell_type": "code",
   "execution_count": 18,
   "metadata": {},
   "outputs": [],
   "source": [
    "bg_faction = np.column_stack((bg_array,faction_array))\n",
    "# create a numpy array from our lists - will turn into DF next"
   ]
  },
  {
   "cell_type": "code",
   "execution_count": 19,
   "metadata": {},
   "outputs": [
    {
     "data": {
      "text/html": [
       "<div>\n",
       "<style scoped>\n",
       "    .dataframe tbody tr th:only-of-type {\n",
       "        vertical-align: middle;\n",
       "    }\n",
       "\n",
       "    .dataframe tbody tr th {\n",
       "        vertical-align: top;\n",
       "    }\n",
       "\n",
       "    .dataframe thead th {\n",
       "        text-align: right;\n",
       "    }\n",
       "</style>\n",
       "<table border=\"1\" class=\"dataframe\">\n",
       "  <thead>\n",
       "    <tr style=\"text-align: right;\">\n",
       "      <th></th>\n",
       "      <th>BG</th>\n",
       "      <th>Faction</th>\n",
       "    </tr>\n",
       "  </thead>\n",
       "  <tbody>\n",
       "    <tr>\n",
       "      <th>0</th>\n",
       "      <td>WG1</td>\n",
       "      <td>Alliance</td>\n",
       "    </tr>\n",
       "    <tr>\n",
       "      <th>1</th>\n",
       "      <td>WG1</td>\n",
       "      <td>Horde</td>\n",
       "    </tr>\n",
       "    <tr>\n",
       "      <th>2</th>\n",
       "      <td>WG10</td>\n",
       "      <td>Alliance</td>\n",
       "    </tr>\n",
       "    <tr>\n",
       "      <th>3</th>\n",
       "      <td>WG10</td>\n",
       "      <td>Horde</td>\n",
       "    </tr>\n",
       "    <tr>\n",
       "      <th>4</th>\n",
       "      <td>WG11</td>\n",
       "      <td>Alliance</td>\n",
       "    </tr>\n",
       "  </tbody>\n",
       "</table>\n",
       "</div>"
      ],
      "text/plain": [
       "     BG   Faction\n",
       "0   WG1  Alliance\n",
       "1   WG1     Horde\n",
       "2  WG10  Alliance\n",
       "3  WG10     Horde\n",
       "4  WG11  Alliance"
      ]
     },
     "execution_count": 19,
     "metadata": {},
     "output_type": "execute_result"
    }
   ],
   "source": [
    "stats_df = pd.DataFrame(bg_faction, columns=['BG','Faction'])\n",
    "# create a dataframe out of our np array and label the columns\n",
    "stats_df.head()"
   ]
  },
  {
   "cell_type": "markdown",
   "metadata": {},
   "source": [
    "Now we have a dataframe thats holds only the battlegrounds we have data for and the factions in them. I want to populate this dataframe with some stats for each team in each battleground. "
   ]
  },
  {
   "cell_type": "code",
   "execution_count": 20,
   "metadata": {},
   "outputs": [],
   "source": [
    "# we want to pass this function a dataframe from our groupby object above and have it count the good flag carriers\n",
    "def count_fc(df): # we will use the best_fc list created above to count the number of good flag carriers in each team\n",
    "    temp=pd.DataFrame(df[['Class']])\n",
    "    temp['in']=temp.Class.isin(best_fc)\n",
    "    # return temp['in'].value_counts()[True] # this does not work - key error if there is no fc thus no true\n",
    "    return (temp['in']==True).sum()\n",
    "    \n",
    "\n",
    "def count_dps(df): # same as above but counts good dps using best_dps\n",
    "    temp=pd.DataFrame(df[['Class']])\n",
    "    temp['in']=temp.Class.isin(best_dps)\n",
    "    # return temp['in'].value_counts()[True]\n",
    "    return (temp['in']==True).sum()\n",
    "    \n",
    "\n",
    "def count_healer(df): # counts the number of healers\n",
    "    # return df['Rol'].value_counts()['heal']\n",
    "    counter=0\n",
    "    temp=df['Rol'].tolist()\n",
    "    for role in temp:\n",
    "        if role == 'heal':\n",
    "            counter+=1\n",
    "    return counter\n",
    "\n",
    "\n",
    "def won(df):\n",
    "    if df['Win'].mean() == 1:\n",
    "        return 1\n",
    "    return 0"
   ]
  },
  {
   "cell_type": "code",
   "execution_count": 21,
   "metadata": {},
   "outputs": [
    {
     "data": {
      "text/plain": [
       "0"
      ]
     },
     "execution_count": 21,
     "metadata": {},
     "output_type": "execute_result"
    }
   ],
   "source": [
    "# now we want to test our functions by passing them a dataframe from our groupby object\n",
    "won(wsg_grouped.get_group(('WG1','Alliance')))"
   ]
  },
  {
   "cell_type": "code",
   "execution_count": 22,
   "metadata": {},
   "outputs": [
    {
     "data": {
      "text/html": [
       "<div>\n",
       "<style scoped>\n",
       "    .dataframe tbody tr th:only-of-type {\n",
       "        vertical-align: middle;\n",
       "    }\n",
       "\n",
       "    .dataframe tbody tr th {\n",
       "        vertical-align: top;\n",
       "    }\n",
       "\n",
       "    .dataframe thead th {\n",
       "        text-align: right;\n",
       "    }\n",
       "</style>\n",
       "<table border=\"1\" class=\"dataframe\">\n",
       "  <thead>\n",
       "    <tr style=\"text-align: right;\">\n",
       "      <th></th>\n",
       "      <th>Code</th>\n",
       "      <th>Faction</th>\n",
       "      <th>Class</th>\n",
       "      <th>KB</th>\n",
       "      <th>D</th>\n",
       "      <th>HK</th>\n",
       "      <th>DD</th>\n",
       "      <th>HD</th>\n",
       "      <th>FC</th>\n",
       "      <th>FR</th>\n",
       "      <th>Honor</th>\n",
       "      <th>Win</th>\n",
       "      <th>Lose</th>\n",
       "      <th>Rol</th>\n",
       "      <th>BE</th>\n",
       "    </tr>\n",
       "  </thead>\n",
       "  <tbody>\n",
       "    <tr>\n",
       "      <th>2</th>\n",
       "      <td>WG1</td>\n",
       "      <td>Alliance</td>\n",
       "      <td>Paladin</td>\n",
       "      <td>0</td>\n",
       "      <td>1</td>\n",
       "      <td>19</td>\n",
       "      <td>824</td>\n",
       "      <td>93879</td>\n",
       "      <td>0.0</td>\n",
       "      <td>0.0</td>\n",
       "      <td>252</td>\n",
       "      <td>0.0</td>\n",
       "      <td>1.0</td>\n",
       "      <td>heal</td>\n",
       "      <td>0.0</td>\n",
       "    </tr>\n",
       "    <tr>\n",
       "      <th>3</th>\n",
       "      <td>WG1</td>\n",
       "      <td>Alliance</td>\n",
       "      <td>Paladin</td>\n",
       "      <td>1</td>\n",
       "      <td>2</td>\n",
       "      <td>25</td>\n",
       "      <td>7046</td>\n",
       "      <td>98599</td>\n",
       "      <td>0.0</td>\n",
       "      <td>0.0</td>\n",
       "      <td>274</td>\n",
       "      <td>0.0</td>\n",
       "      <td>1.0</td>\n",
       "      <td>heal</td>\n",
       "      <td>0.0</td>\n",
       "    </tr>\n",
       "    <tr>\n",
       "      <th>4</th>\n",
       "      <td>WG1</td>\n",
       "      <td>Alliance</td>\n",
       "      <td>Rogue</td>\n",
       "      <td>2</td>\n",
       "      <td>3</td>\n",
       "      <td>23</td>\n",
       "      <td>65483</td>\n",
       "      <td>19629</td>\n",
       "      <td>0.0</td>\n",
       "      <td>0.0</td>\n",
       "      <td>268</td>\n",
       "      <td>0.0</td>\n",
       "      <td>1.0</td>\n",
       "      <td>dps</td>\n",
       "      <td>0.0</td>\n",
       "    </tr>\n",
       "    <tr>\n",
       "      <th>7</th>\n",
       "      <td>WG1</td>\n",
       "      <td>Alliance</td>\n",
       "      <td>Priest</td>\n",
       "      <td>9</td>\n",
       "      <td>5</td>\n",
       "      <td>24</td>\n",
       "      <td>123000</td>\n",
       "      <td>34687</td>\n",
       "      <td>0.0</td>\n",
       "      <td>1.0</td>\n",
       "      <td>269</td>\n",
       "      <td>0.0</td>\n",
       "      <td>1.0</td>\n",
       "      <td>dps</td>\n",
       "      <td>0.0</td>\n",
       "    </tr>\n",
       "    <tr>\n",
       "      <th>9</th>\n",
       "      <td>WG1</td>\n",
       "      <td>Alliance</td>\n",
       "      <td>Priest</td>\n",
       "      <td>0</td>\n",
       "      <td>1</td>\n",
       "      <td>25</td>\n",
       "      <td>12566</td>\n",
       "      <td>36734</td>\n",
       "      <td>0.0</td>\n",
       "      <td>0.0</td>\n",
       "      <td>276</td>\n",
       "      <td>0.0</td>\n",
       "      <td>1.0</td>\n",
       "      <td>heal</td>\n",
       "      <td>0.0</td>\n",
       "    </tr>\n",
       "    <tr>\n",
       "      <th>10</th>\n",
       "      <td>WG1</td>\n",
       "      <td>Alliance</td>\n",
       "      <td>Rogue</td>\n",
       "      <td>3</td>\n",
       "      <td>1</td>\n",
       "      <td>10</td>\n",
       "      <td>22327</td>\n",
       "      <td>2394</td>\n",
       "      <td>0.0</td>\n",
       "      <td>0.0</td>\n",
       "      <td>171</td>\n",
       "      <td>0.0</td>\n",
       "      <td>1.0</td>\n",
       "      <td>dps</td>\n",
       "      <td>0.0</td>\n",
       "    </tr>\n",
       "    <tr>\n",
       "      <th>11</th>\n",
       "      <td>WG1</td>\n",
       "      <td>Alliance</td>\n",
       "      <td>Demon Hunter</td>\n",
       "      <td>0</td>\n",
       "      <td>5</td>\n",
       "      <td>15</td>\n",
       "      <td>29664</td>\n",
       "      <td>4364</td>\n",
       "      <td>0.0</td>\n",
       "      <td>0.0</td>\n",
       "      <td>242</td>\n",
       "      <td>0.0</td>\n",
       "      <td>1.0</td>\n",
       "      <td>dps</td>\n",
       "      <td>0.0</td>\n",
       "    </tr>\n",
       "    <tr>\n",
       "      <th>14</th>\n",
       "      <td>WG1</td>\n",
       "      <td>Alliance</td>\n",
       "      <td>Warlock</td>\n",
       "      <td>8</td>\n",
       "      <td>2</td>\n",
       "      <td>24</td>\n",
       "      <td>101000</td>\n",
       "      <td>21853</td>\n",
       "      <td>0.0</td>\n",
       "      <td>0.0</td>\n",
       "      <td>270</td>\n",
       "      <td>0.0</td>\n",
       "      <td>1.0</td>\n",
       "      <td>dps</td>\n",
       "      <td>0.0</td>\n",
       "    </tr>\n",
       "    <tr>\n",
       "      <th>15</th>\n",
       "      <td>WG1</td>\n",
       "      <td>Alliance</td>\n",
       "      <td>Warlock</td>\n",
       "      <td>5</td>\n",
       "      <td>3</td>\n",
       "      <td>25</td>\n",
       "      <td>124000</td>\n",
       "      <td>27687</td>\n",
       "      <td>0.0</td>\n",
       "      <td>0.0</td>\n",
       "      <td>274</td>\n",
       "      <td>0.0</td>\n",
       "      <td>1.0</td>\n",
       "      <td>dps</td>\n",
       "      <td>0.0</td>\n",
       "    </tr>\n",
       "    <tr>\n",
       "      <th>16</th>\n",
       "      <td>WG1</td>\n",
       "      <td>Alliance</td>\n",
       "      <td>Druid</td>\n",
       "      <td>0</td>\n",
       "      <td>0</td>\n",
       "      <td>17</td>\n",
       "      <td>6796</td>\n",
       "      <td>2738</td>\n",
       "      <td>0.0</td>\n",
       "      <td>0.0</td>\n",
       "      <td>248</td>\n",
       "      <td>0.0</td>\n",
       "      <td>1.0</td>\n",
       "      <td>dps</td>\n",
       "      <td>0.0</td>\n",
       "    </tr>\n",
       "  </tbody>\n",
       "</table>\n",
       "</div>"
      ],
      "text/plain": [
       "   Code   Faction         Class  KB  D  HK      DD     HD   FC   FR  Honor  \\\n",
       "2   WG1  Alliance       Paladin   0  1  19     824  93879  0.0  0.0    252   \n",
       "3   WG1  Alliance       Paladin   1  2  25    7046  98599  0.0  0.0    274   \n",
       "4   WG1  Alliance         Rogue   2  3  23   65483  19629  0.0  0.0    268   \n",
       "7   WG1  Alliance        Priest   9  5  24  123000  34687  0.0  1.0    269   \n",
       "9   WG1  Alliance        Priest   0  1  25   12566  36734  0.0  0.0    276   \n",
       "10  WG1  Alliance         Rogue   3  1  10   22327   2394  0.0  0.0    171   \n",
       "11  WG1  Alliance  Demon Hunter   0  5  15   29664   4364  0.0  0.0    242   \n",
       "14  WG1  Alliance       Warlock   8  2  24  101000  21853  0.0  0.0    270   \n",
       "15  WG1  Alliance       Warlock   5  3  25  124000  27687  0.0  0.0    274   \n",
       "16  WG1  Alliance         Druid   0  0  17    6796   2738  0.0  0.0    248   \n",
       "\n",
       "    Win  Lose   Rol   BE  \n",
       "2   0.0   1.0  heal  0.0  \n",
       "3   0.0   1.0  heal  0.0  \n",
       "4   0.0   1.0   dps  0.0  \n",
       "7   0.0   1.0   dps  0.0  \n",
       "9   0.0   1.0  heal  0.0  \n",
       "10  0.0   1.0   dps  0.0  \n",
       "11  0.0   1.0   dps  0.0  \n",
       "14  0.0   1.0   dps  0.0  \n",
       "15  0.0   1.0   dps  0.0  \n",
       "16  0.0   1.0   dps  0.0  "
      ]
     },
     "execution_count": 22,
     "metadata": {},
     "output_type": "execute_result"
    }
   ],
   "source": [
    " wsg_grouped.get_group(('WG1','Alliance')) # check for accuracy"
   ]
  },
  {
   "cell_type": "markdown",
   "metadata": {},
   "source": [
    "All of our functions work!! Now lets create some new columns in our stats dataframe using them."
   ]
  },
  {
   "cell_type": "code",
   "execution_count": 23,
   "metadata": {
    "scrolled": false
   },
   "outputs": [
    {
     "data": {
      "text/html": [
       "<div>\n",
       "<style scoped>\n",
       "    .dataframe tbody tr th:only-of-type {\n",
       "        vertical-align: middle;\n",
       "    }\n",
       "\n",
       "    .dataframe tbody tr th {\n",
       "        vertical-align: top;\n",
       "    }\n",
       "\n",
       "    .dataframe thead th {\n",
       "        text-align: right;\n",
       "    }\n",
       "</style>\n",
       "<table border=\"1\" class=\"dataframe\">\n",
       "  <thead>\n",
       "    <tr style=\"text-align: right;\">\n",
       "      <th></th>\n",
       "      <th>BG</th>\n",
       "      <th>Faction</th>\n",
       "      <th>fc</th>\n",
       "      <th>dps</th>\n",
       "      <th>heals</th>\n",
       "      <th>won</th>\n",
       "    </tr>\n",
       "  </thead>\n",
       "  <tbody>\n",
       "    <tr>\n",
       "      <th>0</th>\n",
       "      <td>WG1</td>\n",
       "      <td>Alliance</td>\n",
       "      <td>4</td>\n",
       "      <td>3</td>\n",
       "      <td>3</td>\n",
       "      <td>0</td>\n",
       "    </tr>\n",
       "    <tr>\n",
       "      <th>1</th>\n",
       "      <td>WG1</td>\n",
       "      <td>Horde</td>\n",
       "      <td>6</td>\n",
       "      <td>4</td>\n",
       "      <td>2</td>\n",
       "      <td>1</td>\n",
       "    </tr>\n",
       "    <tr>\n",
       "      <th>2</th>\n",
       "      <td>WG10</td>\n",
       "      <td>Alliance</td>\n",
       "      <td>0</td>\n",
       "      <td>2</td>\n",
       "      <td>2</td>\n",
       "      <td>1</td>\n",
       "    </tr>\n",
       "    <tr>\n",
       "      <th>3</th>\n",
       "      <td>WG10</td>\n",
       "      <td>Horde</td>\n",
       "      <td>4</td>\n",
       "      <td>4</td>\n",
       "      <td>3</td>\n",
       "      <td>0</td>\n",
       "    </tr>\n",
       "    <tr>\n",
       "      <th>4</th>\n",
       "      <td>WG11</td>\n",
       "      <td>Alliance</td>\n",
       "      <td>5</td>\n",
       "      <td>3</td>\n",
       "      <td>3</td>\n",
       "      <td>1</td>\n",
       "    </tr>\n",
       "  </tbody>\n",
       "</table>\n",
       "</div>"
      ],
      "text/plain": [
       "     BG   Faction  fc  dps  heals  won\n",
       "0   WG1  Alliance   4    3      3    0\n",
       "1   WG1     Horde   6    4      2    1\n",
       "2  WG10  Alliance   0    2      2    1\n",
       "3  WG10     Horde   4    4      3    0\n",
       "4  WG11  Alliance   5    3      3    1"
      ]
     },
     "execution_count": 23,
     "metadata": {},
     "output_type": "execute_result"
    }
   ],
   "source": [
    "# stats_df['num_fc']=count_fc(wsg_grouped.get_group((stats_df['BG'].iloc[0],stats_df['Faction'].iloc[0])))\n",
    "numfc=[]\n",
    "numdps=[]\n",
    "heals=[]\n",
    "won_lost=[]\n",
    "for i in range(len(bg_array)):\n",
    "    df=wsg_grouped.get_group((bg_array[i],faction_array[i]))\n",
    "    \n",
    "    count = count_fc(df)\n",
    "    countd=count_dps(df)\n",
    "    counth=count_healer(df)\n",
    "    win=won(df)\n",
    "    \n",
    "    numfc.append(count)\n",
    "    numdps.append(countd)\n",
    "    heals.append(counth)\n",
    "    won_lost.append(win)\n",
    "    # numfc.append(count_fc(wsg_grouped.get_group((bg_array[i],faction_array[i]))))\n",
    "    \n",
    "\n",
    "stats_df['fc']=numfc\n",
    "stats_df['dps']=numdps\n",
    "stats_df['heals']=heals\n",
    "stats_df['won']=won_lost\n",
    "stats_df.head()"
   ]
  },
  {
   "cell_type": "markdown",
   "metadata": {},
   "source": [
    "Now we have some stats for each team in the battlegrounds. Lets see whether these 3 stats are enough to predict which team won the battleground. We can start with some visualizations"
   ]
  },
  {
   "cell_type": "code",
   "execution_count": 24,
   "metadata": {},
   "outputs": [
    {
     "data": {
      "text/plain": [
       "Text(0.5,1,'Wins per faction')"
      ]
     },
     "execution_count": 24,
     "metadata": {},
     "output_type": "execute_result"
    },
    {
     "data": {
      "image/png": "[encoded data removed]",
      "text/plain": [
       "<Figure size 1440x720 with 4 Axes>"
      ]
     },
     "metadata": {},
     "output_type": "display_data"
    }
   ],
   "source": [
    "plt.rcParams['figure.figsize'] = (20, 10)\n",
    "fig, axes = plt.subplots(nrows = 2, ncols = 2)\n",
    "\n",
    "axes[0,0].scatter(x='fc',y='won',data=stats_df)\n",
    "axes[0,0].set_title('Number of strong flag carriers vs result')\n",
    "\n",
    "axes[0,1].scatter(x='dps', y='won', data=stats_df)\n",
    "axes[0,1].set_title('Number of strong dps vs result')\n",
    "\n",
    "axes[1,0].scatter(x='heals', y='won', data=stats_df)\n",
    "axes[1,0].set_title('Number of healers vs result')\n",
    "\n",
    "df1=stats_df.groupby('Faction')['won'].sum().reset_index(name='sum')\n",
    "axes[1,1].bar(df1['Faction'],df1['sum'])\n",
    "axes[1,1].set_title('Wins per faction')"
   ]
  },
  {
   "cell_type": "markdown",
   "metadata": {},
   "source": [
    "This doesn't look very promising. I was hoping that these scatter plots might show some kind of a trend, but there doesn't seem to be much here. We can try a logistic regression to see if it seems to do anything"
   ]
  },
  {
   "cell_type": "code",
   "execution_count": 25,
   "metadata": {},
   "outputs": [
    {
     "name": "stdout",
     "output_type": "stream",
     "text": [
      "x_train:  (56, 3)\n",
      "y_train:  (56,)\n",
      "x_test:  (14, 3)\n",
      "y_test:  (14,)\n"
     ]
    }
   ],
   "source": [
    "from sklearn.model_selection import train_test_split\n",
    "\n",
    "features=['fc','dps','heals']\n",
    "\n",
    "stats_features=stats_df[features]\n",
    "stats_target=stats_df['won']\n",
    "\n",
    "x_train,x_test,y_train,y_test=train_test_split(stats_features, stats_target, test_size=0.2, random_state=11)\n",
    "\n",
    "print(\"x_train: \", x_train.shape)\n",
    "print(\"y_train: \", y_train.shape)\n",
    "print(\"x_test: \", x_test.shape)\n",
    "print(\"y_test: \", y_test.shape)"
   ]
  },
  {
   "cell_type": "code",
   "execution_count": 26,
   "metadata": {},
   "outputs": [],
   "source": [
    "from sklearn.linear_model import LogisticRegression\n",
    "\n",
    "lreg=LogisticRegression()"
   ]
  },
  {
   "cell_type": "code",
   "execution_count": 27,
   "metadata": {},
   "outputs": [
    {
     "data": {
      "text/plain": [
       "LogisticRegression(C=1.0, class_weight=None, dual=False, fit_intercept=True,\n",
       "          intercept_scaling=1, max_iter=100, multi_class='ovr', n_jobs=1,\n",
       "          penalty='l2', random_state=None, solver='liblinear', tol=0.0001,\n",
       "          verbose=0, warm_start=False)"
      ]
     },
     "execution_count": 27,
     "metadata": {},
     "output_type": "execute_result"
    }
   ],
   "source": [
    "lreg.fit(x_train,y_train.ravel())"
   ]
  },
  {
   "cell_type": "code",
   "execution_count": 28,
   "metadata": {},
   "outputs": [],
   "source": [
    "predict=lreg.predict(x_test)"
   ]
  },
  {
   "cell_type": "code",
   "execution_count": 29,
   "metadata": {},
   "outputs": [
    {
     "name": "stdout",
     "output_type": "stream",
     "text": [
      "57.14285714285714\n"
     ]
    }
   ],
   "source": [
    "from sklearn.metrics import accuracy_score\n",
    "\n",
    "print(accuracy_score(y_test, predict) * 100)"
   ]
  },
  {
   "cell_type": "code",
   "execution_count": 30,
   "metadata": {},
   "outputs": [
    {
     "data": {
      "image/png": "[encoded data removed]",
      "text/plain": [
       "<Figure size 576x396 with 1 Axes>"
      ]
     },
     "metadata": {},
     "output_type": "display_data"
    }
   ],
   "source": [
    "from yellowbrick.classifier import ConfusionMatrix\n",
    "\n",
    "classes=[1,0]\n",
    "cm = ConfusionMatrix(lreg, classes=classes)\n",
    "cm.fit(x_train, y_train)\n",
    "cm.score(x_test, y_test.ravel())\n",
    "cm.poof()"
   ]
  },
  {
   "cell_type": "markdown",
   "metadata": {},
   "source": [
    "This model does not seem to have much predictive ability. 57% accuracy is slightly better than the 50% you would expect with random guessing, but not by much. Additionally, the model seems a bit better at predicting a loss than a win. It may be that it is easier to predict a losing team than a winning one. It makes sense that a team with, say, 0 good flag carriers and 1 healer will struggle, and maybe that loss is easier to predict.<br><br>\n",
    "I wonder if a model might predict better if the goal was to predict the winner given a single battleground instance. The one I built above only considers one team at a time and tries to label it as a winner or loser. We should be able to aggregate the data further to have only one row per battleground instance. Within the row, we can include data on both the Alliance and Horde team and note which team won. "
   ]
  },
  {
   "cell_type": "markdown",
   "metadata": {},
   "source": [
    "<h1>A New Approach</h1>"
   ]
  },
  {
   "cell_type": "code",
   "execution_count": 37,
   "metadata": {},
   "outputs": [],
   "source": [
    "bg_grouped = stats_df.groupby('BG')\n",
    "\n",
    "alli_fc=[]\n",
    "alli_dps=[]\n",
    "alli_heal=[]\n",
    "\n",
    "horde_fc=[]\n",
    "horde_dps=[]\n",
    "horde_heal=[]\n",
    "\n",
    "alli_won=[]\n",
    "\n",
    "for bg,bg_df in bg_grouped:\n",
    "    temp_fc=bg_df['fc'].tolist()\n",
    "    alli_fc.append(temp_fc[0])\n",
    "    horde_fc.append(temp_fc[1])\n",
    "    \n",
    "    temp_dps=bg_df['dps'].tolist()\n",
    "    alli_dps.append(temp_dps[0])\n",
    "    horde_dps.append(temp_dps[1])\n",
    "    \n",
    "    temp_heal=bg_df['heals'].tolist()\n",
    "    alli_heal.append(temp_heal[0])\n",
    "    horde_heal.append(temp_heal[1])\n",
    "    \n",
    "    alli_won.append(bg_df['won'].tolist()[0])\n",
    "    \n"
   ]
  },
  {
   "cell_type": "code",
   "execution_count": 39,
   "metadata": {},
   "outputs": [
    {
     "name": "stdout",
     "output_type": "stream",
     "text": [
      "35\n",
      "35\n",
      "35\n",
      "35\n",
      "35\n"
     ]
    }
   ],
   "source": [
    "print(len(alli_fc))\n",
    "print(len(alli_heal))\n",
    "print(len(horde_fc))\n",
    "print(len(horde_heal))\n",
    "print(len(alli_won))"
   ]
  },
  {
   "cell_type": "code",
   "execution_count": 42,
   "metadata": {},
   "outputs": [],
   "source": [
    "bgs = list(set(bg_array))\n",
    "bgs = sorted(bgs)"
   ]
  },
  {
   "cell_type": "code",
   "execution_count": 44,
   "metadata": {},
   "outputs": [
    {
     "data": {
      "text/html": [
       "<div>\n",
       "<style scoped>\n",
       "    .dataframe tbody tr th:only-of-type {\n",
       "        vertical-align: middle;\n",
       "    }\n",
       "\n",
       "    .dataframe tbody tr th {\n",
       "        vertical-align: top;\n",
       "    }\n",
       "\n",
       "    .dataframe thead th {\n",
       "        text-align: right;\n",
       "    }\n",
       "</style>\n",
       "<table border=\"1\" class=\"dataframe\">\n",
       "  <thead>\n",
       "    <tr style=\"text-align: right;\">\n",
       "      <th></th>\n",
       "      <th>BG</th>\n",
       "      <th>alli_fc</th>\n",
       "      <th>alli_dps</th>\n",
       "      <th>alli_heal</th>\n",
       "      <th>horde_fc</th>\n",
       "      <th>horde_dps</th>\n",
       "      <th>horde_heal</th>\n",
       "      <th>alli_won</th>\n",
       "    </tr>\n",
       "  </thead>\n",
       "  <tbody>\n",
       "    <tr>\n",
       "      <th>0</th>\n",
       "      <td>WG1</td>\n",
       "      <td>4</td>\n",
       "      <td>3</td>\n",
       "      <td>3</td>\n",
       "      <td>6</td>\n",
       "      <td>4</td>\n",
       "      <td>2</td>\n",
       "      <td>0</td>\n",
       "    </tr>\n",
       "    <tr>\n",
       "      <th>1</th>\n",
       "      <td>WG10</td>\n",
       "      <td>0</td>\n",
       "      <td>2</td>\n",
       "      <td>2</td>\n",
       "      <td>4</td>\n",
       "      <td>4</td>\n",
       "      <td>3</td>\n",
       "      <td>1</td>\n",
       "    </tr>\n",
       "    <tr>\n",
       "      <th>2</th>\n",
       "      <td>WG11</td>\n",
       "      <td>5</td>\n",
       "      <td>3</td>\n",
       "      <td>3</td>\n",
       "      <td>2</td>\n",
       "      <td>5</td>\n",
       "      <td>2</td>\n",
       "      <td>1</td>\n",
       "    </tr>\n",
       "    <tr>\n",
       "      <th>3</th>\n",
       "      <td>WG12</td>\n",
       "      <td>2</td>\n",
       "      <td>2</td>\n",
       "      <td>1</td>\n",
       "      <td>3</td>\n",
       "      <td>6</td>\n",
       "      <td>1</td>\n",
       "      <td>0</td>\n",
       "    </tr>\n",
       "    <tr>\n",
       "      <th>4</th>\n",
       "      <td>WG13</td>\n",
       "      <td>8</td>\n",
       "      <td>5</td>\n",
       "      <td>2</td>\n",
       "      <td>5</td>\n",
       "      <td>6</td>\n",
       "      <td>3</td>\n",
       "      <td>0</td>\n",
       "    </tr>\n",
       "  </tbody>\n",
       "</table>\n",
       "</div>"
      ],
      "text/plain": [
       "     BG  alli_fc  alli_dps  alli_heal  horde_fc  horde_dps  horde_heal  \\\n",
       "0   WG1        4         3          3         6          4           2   \n",
       "1  WG10        0         2          2         4          4           3   \n",
       "2  WG11        5         3          3         2          5           2   \n",
       "3  WG12        2         2          1         3          6           1   \n",
       "4  WG13        8         5          2         5          6           3   \n",
       "\n",
       "   alli_won  \n",
       "0         0  \n",
       "1         1  \n",
       "2         1  \n",
       "3         0  \n",
       "4         0  "
      ]
     },
     "execution_count": 44,
     "metadata": {},
     "output_type": "execute_result"
    }
   ],
   "source": [
    "bg_dict = {'BG':bgs,'alli_fc':alli_fc,'alli_dps':alli_dps,'alli_heal':alli_heal,'horde_fc':horde_fc,'horde_dps':horde_dps,\n",
    "           'horde_heal':horde_heal,'alli_won':alli_won}\n",
    "bgframe=pd.DataFrame(bg_dict)\n",
    "bgframe.head()"
   ]
  },
  {
   "cell_type": "markdown",
   "metadata": {},
   "source": [
    "Now we have the dataframe we need"
   ]
  },
  {
   "cell_type": "code",
   "execution_count": 47,
   "metadata": {},
   "outputs": [],
   "source": [
    "from sklearn.tree import DecisionTreeClassifier\n",
    "from sklearn.ensemble import RandomForestClassifier\n",
    "\n",
    "lreg_model = LogisticRegression(random_state=1)\n",
    "tree_classifier = DecisionTreeClassifier(random_state=1)\n",
    "forest_classifier = RandomForestClassifier(random_state=1)\n",
    "\n",
    "f=['alli_fc','alli_dps','alli_heal','horde_fc','horde_dps','horde_heal']\n",
    "bg_features=bgframe[f]\n",
    "bg_target=bgframe['alli_won']"
   ]
  },
  {
   "cell_type": "code",
   "execution_count": 48,
   "metadata": {},
   "outputs": [],
   "source": [
    "train_x,test_x,train_y,test_y=train_test_split(bg_features, bg_target, test_size=0.2, random_state=11)"
   ]
  },
  {
   "cell_type": "code",
   "execution_count": 49,
   "metadata": {
    "scrolled": true
   },
   "outputs": [
    {
     "data": {
      "text/plain": [
       "RandomForestClassifier(bootstrap=True, class_weight=None, criterion='gini',\n",
       "            max_depth=None, max_features='auto', max_leaf_nodes=None,\n",
       "            min_impurity_decrease=0.0, min_impurity_split=None,\n",
       "            min_samples_leaf=1, min_samples_split=2,\n",
       "            min_weight_fraction_leaf=0.0, n_estimators=10, n_jobs=1,\n",
       "            oob_score=False, random_state=1, verbose=0, warm_start=False)"
      ]
     },
     "execution_count": 49,
     "metadata": {},
     "output_type": "execute_result"
    }
   ],
   "source": [
    "lreg_model.fit(train_x,train_y)\n",
    "tree_classifier.fit(train_x,train_y)\n",
    "forest_classifier.fit(train_x,train_y)"
   ]
  },
  {
   "cell_type": "code",
   "execution_count": 50,
   "metadata": {},
   "outputs": [],
   "source": [
    "lreg_predict=lreg_model.predict(test_x)\n",
    "tree_predict=tree_classifier.predict(test_x)\n",
    "forest_predict=forest_classifier.predict(test_x)"
   ]
  },
  {
   "cell_type": "code",
   "execution_count": 52,
   "metadata": {},
   "outputs": [
    {
     "name": "stdout",
     "output_type": "stream",
     "text": [
      "Logistic Regression accuracy:  0.5714285714285714\n",
      "Tree accuracy:  0.5714285714285714\n",
      "Forest accuracy:  0.2857142857142857\n"
     ]
    }
   ],
   "source": [
    "print('Logistic Regression accuracy: ', accuracy_score(test_y,lreg_predict))\n",
    "print('Tree accuracy: ', accuracy_score(test_y,tree_predict))\n",
    "print('Forest accuracy: ', accuracy_score(test_y,forest_predict))"
   ]
  },
  {
   "cell_type": "code",
   "execution_count": null,
   "metadata": {},
   "outputs": [],
   "source": []
  }
 ],
 "metadata": {
  "kernelspec": {
   "display_name": "Python 3",
   "language": "python",
   "name": "python3"
  },
  "language_info": {
   "codemirror_mode": {
    "name": "ipython",
    "version": 3
   },
   "file_extension": ".py",
   "mimetype": "text/x-python",
   "name": "python",
   "nbconvert_exporter": "python",
   "pygments_lexer": "ipython3",
   "version": "3.6.5"
  }
 },
 "nbformat": 4,
 "nbformat_minor": 2
}
